{
 "cells": [
  {
   "cell_type": "code",
   "execution_count": 129,
   "id": "7c18b018",
   "metadata": {},
   "outputs": [],
   "source": [
    "import requests\n",
    "import polyline\n",
    "import json\n",
    "import pandas as pd\n",
    "from shapely.geometry import Point\n",
    "import folium\n",
    "import geopandas as gpd\n",
    "import dotenv\n",
    "import os"
   ]
  },
  {
   "cell_type": "code",
   "execution_count": 130,
   "id": "6ec4ee3f",
   "metadata": {},
   "outputs": [],
   "source": [
    "dotenv.load_dotenv()\n",
    "ORS_API_KEY=os.getenv('ORS_API_KEY')\n",
    "AZURE_API_KEY=os.getenv('AZURE_API_KEY')"
   ]
  },
  {
   "cell_type": "code",
   "execution_count": 145,
   "id": "0df6ead5",
   "metadata": {},
   "outputs": [],
   "source": [
    "def obtener_altitudes(coordinates, api_key):\n",
    "    url = \"https://api.openrouteservice.org/elevation/line\"\n",
    "    headers = {\n",
    "        \"Authorization\": api_key,\n",
    "        \"Content-Type\": \"application/json\"\n",
    "    }\n",
    "\n",
    "    # ORS espera formato lat, lon para ENCODED_POLYLINE\n",
    "    #geometry_latlng = [(round(lat, 5), round(lng, 5)) for lat, lng in coordinates]\n",
    "    geometry_latlng = [(lat, lng) for lat, lng in coordinates]\n",
    "\n",
    "    payload = {\n",
    "        \"format_in\": \"encodedpolyline\",\n",
    "        \"format_out\": \"geojson\",\n",
    "        \"geometry\": polyline.encode(geometry_latlng)\n",
    "    }\n",
    "\n",
    "    response = requests.post(url, headers=headers, json=payload)\n",
    "    if response.status_code != 200:\n",
    "        raise Exception(f\"Error elevación: {response.text}\")\n",
    "    data = response.json()\n",
    "    return data['geometry']['coordinates']"
   ]
  },
  {
   "cell_type": "code",
   "execution_count": 182,
   "id": "36fbef4e",
   "metadata": {},
   "outputs": [],
   "source": [
    "def get_route(coords,api_key):\n",
    "    url = \"https://api.openrouteservice.org/v2/directions/driving-car\"\n",
    "    headers = {\n",
    "        \"Authorization\": api_key,\n",
    "        \"Content-Type\": \"application/json\"\n",
    "    }\n",
    "    payload = {\n",
    "        \"coordinates\": coords,\n",
    "        \"instructions\": True,\n",
    "        #\"elevation\":True\n",
    "    }\n",
    "\n",
    "    response = requests.post(url, json=payload, headers=headers)\n",
    "    if response.status_code != 200:\n",
    "        raise Exception(f\"Error elevación: {response.text}\")\n",
    "    \n",
    "    data = response.json()\n",
    "    return data"
   ]
  },
  {
   "cell_type": "code",
   "execution_count": 136,
   "id": "e672ff09",
   "metadata": {},
   "outputs": [],
   "source": [
    "def get_opt_route(coords,api_key):\n",
    "    features = []\n",
    "    for idx, (lon, lat) in enumerate(coords):\n",
    "        point_type = \"waypoint\" if idx in (0, len(coords) - 1) else \"viaWaypoint\"\n",
    "        features.append({\n",
    "            \"type\": \"Feature\",\n",
    "            \"geometry\": {\n",
    "                \"coordinates\": [lon, lat],\n",
    "                \"type\": \"Point\"\n",
    "            },\n",
    "            \"properties\": {\n",
    "                \"pointIndex\": idx,\n",
    "                \"pointType\": point_type\n",
    "            }\n",
    "        })\n",
    "\n",
    "    body = {\n",
    "        \"type\": \"FeatureCollection\",\n",
    "        \"features\": features,\n",
    "        \"optimizeRoute\": \"fastestWithTraffic\",\n",
    "        \"routeOutputOptions\": [\"itinerary\",\"routePath\"],\n",
    "        \"maxRouteCount\": 1,\n",
    "        \"travelMode\": \"driving\",\n",
    "        \"departureAt\": \"2025-08-14T08:00:00-05:00\"\n",
    "    }\n",
    "\n",
    "    url = \"https://atlas.microsoft.com/route/directions\"\n",
    "    params = {\"api-version\": \"2025-01-01\"}\n",
    "\n",
    "    response = requests.post(\n",
    "        url,\n",
    "        params=params,\n",
    "        headers={\n",
    "            \"Content-Type\": \"application/json; charset=UTF-8\",\n",
    "            \"subscription-key\": api_key\n",
    "        },\n",
    "        json=body\n",
    "    )\n",
    "    response.raise_for_status()\n",
    "    return response.json()"
   ]
  },
  {
   "cell_type": "code",
   "execution_count": 188,
   "id": "b41dd874",
   "metadata": {},
   "outputs": [],
   "source": [
    "# Asignar tiempos reales y etiquetas desde steps\n",
    "def get_vel(steps,elevation_data):\n",
    "    route = []\n",
    "    total_time = 0\n",
    "    total_distance = 0\n",
    "\n",
    "    for step in steps:\n",
    "        start_idx, end_idx = step[\"way_points\"]\n",
    "        step_duration = step[\"duration\"]  # segundos\n",
    "        step_distance = step[\"distance\"]  # metros\n",
    "        num_points = end_idx - start_idx\n",
    "\n",
    "        # Evitar división por cero\n",
    "        if num_points == 0:\n",
    "            continue\n",
    "\n",
    "        # Duración por punto\n",
    "        duration_per_point = step_duration / num_points\n",
    "        distance_per_point = step_distance / num_points\n",
    "\n",
    "        for i in range(num_points):\n",
    "            idx = start_idx + i\n",
    "            lng, lat, alt = elevation_data[idx]\n",
    "\n",
    "            if len(route) == 0:\n",
    "                prev_alt = alt\n",
    "            else:\n",
    "                prev_alt = route[-1][\"altitude\"]\n",
    "\n",
    "            delta_alt = alt - prev_alt\n",
    "            slope = (delta_alt / distance_per_point * 100) if distance_per_point != 0 else 0\n",
    "\n",
    "            route.append({\n",
    "                \"latitude\": (lat),\n",
    "                \"longitude\": (lng),\n",
    "                \"altitude\": round(alt, 2),\n",
    "                \"distance_mt\": round(total_distance, 2),\n",
    "                \"distance_km\": round(total_distance / 1000, 2),\n",
    "                \"time_sec\": round(total_time, 2),\n",
    "                \"slope_pct\": round(slope, 2),\n",
    "                \"speed_ms\": round((distance_per_point / duration_per_point), 2),\n",
    "                \"speed_kmh\": round((distance_per_point / duration_per_point) * 3.6, 2),\n",
    "            })\n",
    "            total_time += duration_per_point\n",
    "            total_distance += distance_per_point\n",
    "    return route"
   ]
  },
  {
   "cell_type": "code",
   "execution_count": 2,
   "id": "5534915d",
   "metadata": {},
   "outputs": [],
   "source": [
    "df_med=pd.read_json(\"results/med.json\")\n",
    "df_med=df_med.iloc[[1]]"
   ]
  },
  {
   "cell_type": "code",
   "execution_count": 3,
   "id": "76e861f3",
   "metadata": {},
   "outputs": [],
   "source": [
    "coords=[\n",
    "    [df_med.iloc[0]['o_long'],df_med.iloc[0]['o_lat']],\n",
    "    [df_med.iloc[0]['d_long'],df_med.iloc[0]['d_lat']]\n",
    "]"
   ]
  },
  {
   "cell_type": "code",
   "execution_count": 137,
   "id": "56e0a678",
   "metadata": {},
   "outputs": [],
   "source": [
    "response_opt=get_opt_route(coords,AZURE_API_KEY)"
   ]
  },
  {
   "cell_type": "code",
   "execution_count": null,
   "id": "4cb54659",
   "metadata": {},
   "outputs": [],
   "source": [
    "data=get_route(coords, ORS_API_KEY)\n",
    "geometry_encoded = data[\"routes\"][0][\"geometry\"]\n",
    "geometry = polyline.decode(geometry_encoded)"
   ]
  },
  {
   "cell_type": "code",
   "execution_count": null,
   "id": "90fe35c3",
   "metadata": {},
   "outputs": [],
   "source": [
    "elevation_data = obtener_altitudes(geometry, ORS_API_KEY)\n",
    "steps = data[\"routes\"][0][\"segments\"][0][\"steps\"]"
   ]
  },
  {
   "cell_type": "code",
   "execution_count": 189,
   "id": "b907636d",
   "metadata": {},
   "outputs": [],
   "source": [
    "route=get_vel(steps,elevation_data)"
   ]
  },
  {
   "cell_type": "code",
   "execution_count": null,
   "id": "8d8046c4",
   "metadata": {},
   "outputs": [],
   "source": [
    "with open(\"vel_route.json\", \"w\", encoding=\"utf-8\") as f:\n",
    "        json.dump(route, f, ensure_ascii=False, indent=2)\n",
    "\n",
    "with open(\"ors_route.json\", \"w\", encoding=\"utf-8\") as f:\n",
    "        json.dump(data, f, ensure_ascii=False, indent=2)\n",
    "\n",
    "with open(\"azure_route.json\", \"w\", encoding=\"utf-8\") as f:\n",
    "        json.dump(response_opt, f, ensure_ascii=False, indent=2)"
   ]
  },
  {
   "cell_type": "code",
   "execution_count": 120,
   "id": "feccce4a",
   "metadata": {},
   "outputs": [
    {
     "data": {
      "text/plain": [
       "\"\\nfor index, row in df_med.iterrows():\\n\\n    if(row['route'] is not None):\\n\\n        continue\\n\\n    #row['route']=get_route()\\n\""
      ]
     },
     "execution_count": 120,
     "metadata": {},
     "output_type": "execute_result"
    }
   ],
   "source": [
    "'''\n",
    "for index, row in df_med.iterrows():\n",
    "\n",
    "    if(row['route'] is not None):\n",
    "\n",
    "        continue\n",
    "\n",
    "    #row['route']=get_route()\n",
    "'''"
   ]
  },
  {
   "cell_type": "code",
   "execution_count": 55,
   "id": "31cce016",
   "metadata": {},
   "outputs": [],
   "source": [
    "with open(\"ors_route.json\") as f:\n",
    "    data_ors = json.load(f)\n",
    "\n",
    "with open(\"azure_route.json\") as f:\n",
    "    data_azure = json.load(f)"
   ]
  },
  {
   "cell_type": "code",
   "execution_count": 101,
   "id": "cf92b473",
   "metadata": {},
   "outputs": [],
   "source": [
    "geometry_azure=data_azure['features'][-1]['geometry']['coordinates'][0]\n",
    "geometry_azure=[[lat,lon] for lon,lat in geometry_azure]\n",
    "\n",
    "geometry_ors=data_ors['routes'][0]['geometry']\n",
    "geometry_ors=polyline.decode(geometry_ors)"
   ]
  },
  {
   "cell_type": "code",
   "execution_count": 118,
   "id": "ec73ca43",
   "metadata": {},
   "outputs": [],
   "source": [
    "# [Lat,lon] format\n",
    "def generate_map(coords):\n",
    "    m=folium.Map(location=coords[0], zoom_start=12)\n",
    "    folium.Marker(coords[0]).add_to(m)\n",
    "    folium.Marker(coords[-1]).add_to(m)\n",
    "    folium.PolyLine(\n",
    "        coords,\n",
    "        color=\"blue\",\n",
    "        weight=5,\n",
    "        opacity=0.8\n",
    "    ).add_to(m)\n",
    "    return m"
   ]
  },
  {
   "cell_type": "code",
   "execution_count": 119,
   "id": "f944694a",
   "metadata": {},
   "outputs": [],
   "source": [
    "m=generate_map(geometry_azure)\n",
    "m.save(\"azure_map.html\")\n",
    "\n",
    "m=generate_map(geometry_ors)\n",
    "m.save(\"ors_map.html\")"
   ]
  }
 ],
 "metadata": {
  "kernelspec": {
   "display_name": "base",
   "language": "python",
   "name": "python3"
  },
  "language_info": {
   "codemirror_mode": {
    "name": "ipython",
    "version": 3
   },
   "file_extension": ".py",
   "mimetype": "text/x-python",
   "name": "python",
   "nbconvert_exporter": "python",
   "pygments_lexer": "ipython3",
   "version": "3.12.7"
  }
 },
 "nbformat": 4,
 "nbformat_minor": 5
}
